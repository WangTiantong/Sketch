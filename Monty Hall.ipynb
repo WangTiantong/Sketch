{
 "cells": [
  {
   "cell_type": "code",
   "execution_count": 1,
   "metadata": {},
   "outputs": [],
   "source": [
    "import random"
   ]
  },
  {
   "cell_type": "markdown",
   "metadata": {},
   "source": [
    "#    "
   ]
  },
  {
   "cell_type": "code",
   "execution_count": 2,
   "metadata": {},
   "outputs": [],
   "source": [
    "L = [1, 2, 3]\n",
    "countWins = 0\n",
    "countLose = 0\n",
    "numTrials = 1000\n",
    "\n",
    "if_switch = True # True if switch door, False otherwise"
   ]
  },
  {
   "cell_type": "code",
   "execution_count": 3,
   "metadata": {},
   "outputs": [],
   "source": [
    "for i in range(numTrials):\n",
    "    carDoor = random.randint(1, 3)\n",
    "    yourDoor = random.randint(1, 3)\n",
    "    finalDoor = yourDoor\n",
    "\n",
    "    if if_switch:\n",
    "        L0 = [1, 2, 3]\n",
    "        L0.remove(yourDoor)\n",
    "        L0.remove(carDoor) if carDoor in L0 else L0\n",
    "        openDoor = random.choice(L0)\n",
    "        finalDoor = list(set(L) - set([yourDoor, openDoor]))[0]\n",
    "\n",
    "    # judge\n",
    "    countWins += 1 if finalDoor == carDoor else 0\n",
    "    countLose += 1 if finalDoor != carDoor else 0"
   ]
  },
  {
   "cell_type": "code",
   "execution_count": 4,
   "metadata": {},
   "outputs": [
    {
     "name": "stdout",
     "output_type": "stream",
     "text": [
      "The count of winnings is 685\n",
      "The count of lost is 315\n",
      "The probability of winnings is 68.50%\n"
     ]
    }
   ],
   "source": [
    "# calculate final paobability\n",
    "probability_win = countWins/numTrials\n",
    "prob_format = \"{:.2%}\".format(probability_win) #format to percentage\n",
    "\n",
    "# print outcome\n",
    "print(f'The count of winnings is '+str(countWins))\n",
    "print(f'The count of lost is '+str(countLose))\n",
    "print(f'The probability of winnings is '+str(prob_format))"
   ]
  },
  {
   "cell_type": "markdown",
   "metadata": {},
   "source": [
    "#        "
   ]
  },
  {
   "cell_type": "code",
   "execution_count": 9,
   "metadata": {},
   "outputs": [],
   "source": [
    "def monty_hall_simulation(numTrials, if_switch):\n",
    "    \n",
    "    # initiate list and count variables\n",
    "    L = [1, 2, 3]\n",
    "    countWins = 0\n",
    "    countLose = 0\n",
    "    \n",
    "    # for each trial\n",
    "    for i in range(numTrials):\n",
    "        carDoor = random.randint(1, 3)\n",
    "        yourDoor = random.randint(1, 3)\n",
    "        finalDoor = yourDoor # final choice is the first choice if no switch\n",
    "        \n",
    "        # if switch door\n",
    "        if if_switch:\n",
    "            L0 = [1, 2, 3]\n",
    "            L0.remove(yourDoor)\n",
    "            L0.remove(carDoor) if carDoor in L0 else L0\n",
    "            openDoor = random.choice(L0)\n",
    "            finalDoor = list(set(L) - set([yourDoor, openDoor]))[0]\n",
    "\n",
    "        # judge\n",
    "        countWins += 1 if finalDoor == carDoor else 0\n",
    "        countLose += 1 if finalDoor != carDoor else 0\n",
    "    \n",
    "    # calculate final paobability\n",
    "    probability_win = countWins/numTrials\n",
    "    prob_format = \"{:.2%}\".format(probability_win) #format to percentage\n",
    "    \n",
    "    # print outcome\n",
    "    print(f'The count of winnings is '+str(countWins))\n",
    "    print(f'The count of lost is '+str(countLose))\n",
    "    print(f'The probability of winnings is '+str(prob_format))"
   ]
  },
  {
   "cell_type": "code",
   "execution_count": 10,
   "metadata": {},
   "outputs": [
    {
     "name": "stdout",
     "output_type": "stream",
     "text": [
      "The count of winnings is 673\n",
      "The count of lost is 327\n",
      "The probability of winnings is 67.30%\n"
     ]
    }
   ],
   "source": [
    "monty_hall_simulation(1000, True)"
   ]
  }
 ],
 "metadata": {
  "kernelspec": {
   "display_name": "Python 3",
   "language": "python",
   "name": "python3"
  },
  "language_info": {
   "codemirror_mode": {
    "name": "ipython",
    "version": 3
   },
   "file_extension": ".py",
   "mimetype": "text/x-python",
   "name": "python",
   "nbconvert_exporter": "python",
   "pygments_lexer": "ipython3",
   "version": "3.7.1"
  }
 },
 "nbformat": 4,
 "nbformat_minor": 2
}
